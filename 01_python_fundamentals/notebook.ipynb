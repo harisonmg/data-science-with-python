{
  "cells": [
    {
      "cell_type": "markdown",
      "metadata": {},
      "source": [
        "# Python fundamentals\n",
        "\n",
        "## Data types\n",
        "\n",
        "### Integers"
      ],
      "id": "6de35946-3e49-4872-b73d-8f220ad7d20d"
    },
    {
      "cell_type": "code",
      "execution_count": 1,
      "metadata": {},
      "outputs": [
        {
          "output_type": "display_data",
          "metadata": {},
          "data": {
            "text/plain": [
              "int"
            ]
          }
        }
      ],
      "source": [
        "type(100)"
      ],
      "id": "fce49e37-3f4f-435c-b248-e2ceaec3e314"
    },
    {
      "cell_type": "markdown",
      "metadata": {},
      "source": [
        "### Floating-point numbers"
      ],
      "id": "3b221f82-c118-4de0-9e0b-e5454253a9de"
    },
    {
      "cell_type": "code",
      "execution_count": 2,
      "metadata": {},
      "outputs": [
        {
          "output_type": "display_data",
          "metadata": {},
          "data": {
            "text/plain": [
              "float"
            ]
          }
        }
      ],
      "source": [
        "type(3.14)"
      ],
      "id": "fc61c5fb-1849-4937-9f5c-6a3df46953b4"
    },
    {
      "cell_type": "markdown",
      "metadata": {},
      "source": [
        "### Strings"
      ],
      "id": "27945136-248f-4e56-937f-8974974223db"
    },
    {
      "cell_type": "code",
      "execution_count": 3,
      "metadata": {},
      "outputs": [
        {
          "output_type": "display_data",
          "metadata": {},
          "data": {
            "text/plain": [
              "str"
            ]
          }
        }
      ],
      "source": [
        "type(\"Hello world!\")"
      ],
      "id": "89d73399-20d5-44d8-930b-b35d00d23dd5"
    },
    {
      "cell_type": "markdown",
      "metadata": {},
      "source": [
        "### Boolean"
      ],
      "id": "209bc238-dc09-4e13-853d-c36dc91f58c9"
    },
    {
      "cell_type": "code",
      "execution_count": 4,
      "metadata": {},
      "outputs": [
        {
          "output_type": "display_data",
          "metadata": {},
          "data": {
            "text/plain": [
              "bool"
            ]
          }
        }
      ],
      "source": [
        "type(True)"
      ],
      "id": "af108350-ca29-4094-99c9-4c907eed3937"
    },
    {
      "cell_type": "markdown",
      "metadata": {},
      "source": [
        "### Lists"
      ],
      "id": "b6750b53-4df4-4a58-9955-f16b17ab3080"
    },
    {
      "cell_type": "code",
      "execution_count": 5,
      "metadata": {},
      "outputs": [
        {
          "output_type": "display_data",
          "metadata": {},
          "data": {
            "text/plain": [
              "list"
            ]
          }
        }
      ],
      "source": [
        "type([1, 2, \"three\"])"
      ],
      "id": "a2151dd8-f94d-47c0-9b96-0f7774b6bacd"
    },
    {
      "cell_type": "markdown",
      "metadata": {},
      "source": [
        "### Dictionaries"
      ],
      "id": "e8c3d85a-2b87-436e-a254-6bf0275cbeab"
    },
    {
      "cell_type": "code",
      "execution_count": 6,
      "metadata": {},
      "outputs": [
        {
          "output_type": "display_data",
          "metadata": {},
          "data": {
            "text/plain": [
              "dict"
            ]
          }
        }
      ],
      "source": [
        "type({\"first_name\": \"Harison\", \"last_name\": \"Gachuru\"})"
      ],
      "id": "8fc31e86-1c31-45f0-98a3-e0d861e0cf8f"
    },
    {
      "cell_type": "markdown",
      "metadata": {},
      "source": [
        "### Sets"
      ],
      "id": "ab110240-fb70-4426-ba42-7c16dc1c1a0f"
    },
    {
      "cell_type": "code",
      "execution_count": 7,
      "metadata": {},
      "outputs": [
        {
          "output_type": "display_data",
          "metadata": {},
          "data": {
            "text/plain": [
              "set"
            ]
          }
        }
      ],
      "source": [
        "type({1, 2, 3, 5, 7})"
      ],
      "id": "0506df1f-ab72-4632-96f1-ee68454ed49f"
    },
    {
      "cell_type": "markdown",
      "metadata": {},
      "source": [
        "## Math operators\n",
        "\n",
        "### Addition"
      ],
      "id": "2ee44f6a-34ad-47e3-ab55-2f4e5fff7c4d"
    },
    {
      "cell_type": "code",
      "execution_count": 8,
      "metadata": {},
      "outputs": [
        {
          "output_type": "display_data",
          "metadata": {},
          "data": {
            "text/plain": [
              "8"
            ]
          }
        }
      ],
      "source": [
        "3 + 5"
      ],
      "id": "9878317a-d434-4abc-b450-3500865dda84"
    },
    {
      "cell_type": "markdown",
      "metadata": {},
      "source": [
        "### Subtraction"
      ],
      "id": "197d5dc9-faa9-4fad-93dc-1cc2e0e1c57a"
    },
    {
      "cell_type": "code",
      "execution_count": 9,
      "metadata": {},
      "outputs": [
        {
          "output_type": "display_data",
          "metadata": {},
          "data": {
            "text/plain": [
              "80"
            ]
          }
        }
      ],
      "source": [
        "100 - 20"
      ],
      "id": "f249a0a3-c744-4915-95a8-68acf9a953ba"
    },
    {
      "cell_type": "markdown",
      "metadata": {},
      "source": [
        "### Multiplication"
      ],
      "id": "ea27732b-9ffc-498c-9cfe-2547289ec835"
    },
    {
      "cell_type": "code",
      "execution_count": 10,
      "metadata": {},
      "outputs": [
        {
          "output_type": "display_data",
          "metadata": {},
          "data": {
            "text/plain": [
              "10"
            ]
          }
        }
      ],
      "source": [
        "2 * 5"
      ],
      "id": "171c93a6-4b0c-4dda-92e6-c26cb89f171d"
    },
    {
      "cell_type": "markdown",
      "metadata": {},
      "source": [
        "### Division"
      ],
      "id": "6b6cc021-c97c-4f2c-8a47-af7d319407a1"
    },
    {
      "cell_type": "code",
      "execution_count": 11,
      "metadata": {},
      "outputs": [
        {
          "output_type": "display_data",
          "metadata": {},
          "data": {
            "text/plain": [
              "50.0"
            ]
          }
        }
      ],
      "source": [
        "100 / 2"
      ],
      "id": "2897f980-0b0e-4d7e-b88c-e6c8f8719418"
    },
    {
      "cell_type": "markdown",
      "metadata": {},
      "source": [
        "### Integer division/floored quotient"
      ],
      "id": "f7cd22d6-8ed6-4028-bb64-d08fba3ca7e1"
    },
    {
      "cell_type": "code",
      "execution_count": 12,
      "metadata": {},
      "outputs": [
        {
          "output_type": "display_data",
          "metadata": {},
          "data": {
            "text/plain": [
              "5"
            ]
          }
        }
      ],
      "source": [
        "23 // 4"
      ],
      "id": "87cd0603-a867-42a9-bae6-6c1b112fbbe7"
    },
    {
      "cell_type": "markdown",
      "metadata": {},
      "source": [
        "### Modulus/remainder"
      ],
      "id": "8d9dd5cb-fd07-46bb-8333-7ff21cf3dcb3"
    },
    {
      "cell_type": "code",
      "execution_count": 13,
      "metadata": {},
      "outputs": [
        {
          "output_type": "display_data",
          "metadata": {},
          "data": {
            "text/plain": [
              "3"
            ]
          }
        }
      ],
      "source": [
        "23 % 4"
      ],
      "id": "6f19266c-ad6e-4c3a-9447-81ccb1bb4c8b"
    },
    {
      "cell_type": "markdown",
      "metadata": {},
      "source": [
        "### Exponentiation"
      ],
      "id": "4e8bae65-52d4-4411-9b3d-7812798e9550"
    },
    {
      "cell_type": "code",
      "execution_count": 14,
      "metadata": {},
      "outputs": [
        {
          "output_type": "display_data",
          "metadata": {},
          "data": {
            "text/plain": [
              "100"
            ]
          }
        }
      ],
      "source": [
        "10 ** 2"
      ],
      "id": "47280eab-211f-423a-bec4-85d947717b69"
    },
    {
      "cell_type": "markdown",
      "metadata": {},
      "source": [
        "## String operators\n",
        "\n",
        "### Concatenation"
      ],
      "id": "31d75ea2-e351-4e7f-8158-a6e24393c4db"
    },
    {
      "cell_type": "code",
      "execution_count": 15,
      "metadata": {},
      "outputs": [
        {
          "output_type": "display_data",
          "metadata": {},
          "data": {
            "text/plain": [
              "'Hello world!'"
            ]
          }
        }
      ],
      "source": [
        "\"Hello\" + \" \" + \"world\" + \"!\""
      ],
      "id": "88cab58f-88c0-400c-a1cd-306910277266"
    },
    {
      "cell_type": "markdown",
      "metadata": {},
      "source": [
        "### Replication"
      ],
      "id": "462beea0-a868-4aa3-9b40-07d9a235dfff"
    },
    {
      "cell_type": "code",
      "execution_count": 16,
      "metadata": {},
      "outputs": [
        {
          "output_type": "display_data",
          "metadata": {},
          "data": {
            "text/plain": [
              "'Hello world!Hello world!Hello world!'"
            ]
          }
        }
      ],
      "source": [
        "\"Hello world!\" * 3"
      ],
      "id": "fa24c8ce-a78c-484f-8399-25674b82e7b1"
    },
    {
      "cell_type": "markdown",
      "metadata": {},
      "source": [
        "## Variables"
      ],
      "id": "dcbf1487-a2a7-4eb6-bfb8-53d250eaaaa8"
    },
    {
      "cell_type": "code",
      "execution_count": 17,
      "metadata": {},
      "outputs": [
        {
          "output_type": "display_data",
          "metadata": {},
          "data": {
            "text/plain": [
              "5"
            ]
          }
        }
      ],
      "source": [
        "x = 5\n",
        "x"
      ],
      "id": "fb862215-196c-4c76-a3b3-8873e9003178"
    },
    {
      "cell_type": "code",
      "execution_count": 18,
      "metadata": {},
      "outputs": [
        {
          "output_type": "display_data",
          "metadata": {},
          "data": {
            "text/plain": [
              "'Hello world!'"
            ]
          }
        }
      ],
      "source": [
        "text = \"Hello world!\"\n",
        "text"
      ],
      "id": "53475239-329a-49a0-8b21-bee0ccdad4ed"
    },
    {
      "cell_type": "markdown",
      "metadata": {},
      "source": [
        "Question: What happens when we reference an unassigned variable?\n",
        "\n",
        "## Reading and writing files"
      ],
      "id": "ca7a1504-7308-4590-8667-d0689962835e"
    },
    {
      "cell_type": "code",
      "execution_count": 19,
      "metadata": {},
      "outputs": [],
      "source": [
        "file_ref = open(\"example.txt\", \"w\")\n",
        "file_ref.write(\"The quick brown fox jumps over the lazy dog\")\n",
        "file_ref.close()"
      ],
      "id": "96659bed-f3b4-466e-987b-ad3ff2204065"
    },
    {
      "cell_type": "code",
      "execution_count": 20,
      "metadata": {},
      "outputs": [
        {
          "output_type": "stream",
          "name": "stdout",
          "text": [
            "The quick brown fox jumps over the lazy dog"
          ]
        }
      ],
      "source": [
        "with open(\"example.txt\") as file:\n",
        "    print(file.read())"
      ],
      "id": "620b4fab-658b-42ce-a238-93457eb98f81"
    }
  ],
  "nbformat": 4,
  "nbformat_minor": 5,
  "metadata": {
    "kernelspec": {
      "name": "python3",
      "display_name": "Python 3 (ipykernel)",
      "language": "python"
    }
  }
}