{
  "cells": [
    {
      "cell_type": "markdown",
      "metadata": {
        "id": "view-in-github",
        "colab_type": "text"
      },
      "source": [
        "<a href=\"https://colab.research.google.com/github/harisonmg/data-science-with-python/blob/website/notebooks/python_fundamentals.ipynb\" target=\"_parent\"><img src=\"https://colab.research.google.com/assets/colab-badge.svg\" alt=\"Open In Colab\"/></a>"
      ]
    },
    {
      "cell_type": "markdown",
      "source": [
        "---\n",
        "title: \"Python fundamentals\"\n",
        "author: \"Harison Gachuru\"\n",
        "date: 2023-02-22\n",
        "---"
      ],
      "metadata": {
        "id": "2945WKeA1rXv"
      },
      "id": "2945WKeA1rXv"
    },
    {
      "cell_type": "markdown",
      "metadata": {
        "id": "68845811-20cd-40cc-a9aa-36c2e4a42931"
      },
      "source": [
        "## Data types"
      ],
      "id": "68845811-20cd-40cc-a9aa-36c2e4a42931"
    },
    {
      "cell_type": "markdown",
      "source": [
        "### Integers"
      ],
      "metadata": {
        "id": "PZFdLjX-3E3L"
      },
      "id": "PZFdLjX-3E3L"
    },
    {
      "cell_type": "code",
      "execution_count": 1,
      "metadata": {
        "colab": {
          "base_uri": "https://localhost:8080/"
        },
        "id": "6bdc18da-8c18-47b8-8d3e-37cc75e042f9",
        "outputId": "1ee3299f-b3c7-4516-ad14-2f0bfb711a13"
      },
      "outputs": [
        {
          "output_type": "execute_result",
          "data": {
            "text/plain": [
              "int"
            ]
          },
          "metadata": {},
          "execution_count": 1
        }
      ],
      "source": [
        "type(100)"
      ],
      "id": "6bdc18da-8c18-47b8-8d3e-37cc75e042f9"
    },
    {
      "cell_type": "markdown",
      "metadata": {
        "id": "fe841f32-888a-4d0e-bcae-449a3f862324"
      },
      "source": [
        "### Floating-point numbers"
      ],
      "id": "fe841f32-888a-4d0e-bcae-449a3f862324"
    },
    {
      "cell_type": "code",
      "execution_count": 2,
      "metadata": {
        "colab": {
          "base_uri": "https://localhost:8080/"
        },
        "id": "52bb8f6e-c7c1-44db-a305-ea7b04b87ebb",
        "outputId": "274d1a90-537e-47bd-f320-682fbcde224e"
      },
      "outputs": [
        {
          "output_type": "execute_result",
          "data": {
            "text/plain": [
              "float"
            ]
          },
          "metadata": {},
          "execution_count": 2
        }
      ],
      "source": [
        "type(3.14)"
      ],
      "id": "52bb8f6e-c7c1-44db-a305-ea7b04b87ebb"
    },
    {
      "cell_type": "markdown",
      "metadata": {
        "id": "2ef197fe-384c-48a6-8b90-f4fda5ed216d"
      },
      "source": [
        "### Strings"
      ],
      "id": "2ef197fe-384c-48a6-8b90-f4fda5ed216d"
    },
    {
      "cell_type": "code",
      "execution_count": 3,
      "metadata": {
        "colab": {
          "base_uri": "https://localhost:8080/"
        },
        "id": "6b132fed-7a12-4d0e-9eed-c49e0d20e2c5",
        "outputId": "3111c41c-0a22-4c8b-c32a-6607873346cd"
      },
      "outputs": [
        {
          "output_type": "execute_result",
          "data": {
            "text/plain": [
              "str"
            ]
          },
          "metadata": {},
          "execution_count": 3
        }
      ],
      "source": [
        "type(\"Hello world!\")"
      ],
      "id": "6b132fed-7a12-4d0e-9eed-c49e0d20e2c5"
    },
    {
      "cell_type": "markdown",
      "metadata": {
        "id": "d8913986-bf96-46d8-8819-9351b9417b6d"
      },
      "source": [
        "### Boolean"
      ],
      "id": "d8913986-bf96-46d8-8819-9351b9417b6d"
    },
    {
      "cell_type": "code",
      "execution_count": 4,
      "metadata": {
        "colab": {
          "base_uri": "https://localhost:8080/"
        },
        "id": "854b70b7-712f-4eaa-8633-c328aaf44c4a",
        "outputId": "0ede6313-a309-44a2-cc6f-14bdfc4ab6ed"
      },
      "outputs": [
        {
          "output_type": "execute_result",
          "data": {
            "text/plain": [
              "bool"
            ]
          },
          "metadata": {},
          "execution_count": 4
        }
      ],
      "source": [
        "type(True)"
      ],
      "id": "854b70b7-712f-4eaa-8633-c328aaf44c4a"
    },
    {
      "cell_type": "markdown",
      "metadata": {
        "id": "672a55de-3027-4e8c-a1fd-899bba47f2ef"
      },
      "source": [
        "### Lists"
      ],
      "id": "672a55de-3027-4e8c-a1fd-899bba47f2ef"
    },
    {
      "cell_type": "code",
      "execution_count": 5,
      "metadata": {
        "colab": {
          "base_uri": "https://localhost:8080/"
        },
        "id": "b6b2e8a3-5b12-46d2-9fb4-e49f35326d35",
        "outputId": "7677c305-15eb-461e-96a2-be76a0a8b9bd"
      },
      "outputs": [
        {
          "output_type": "execute_result",
          "data": {
            "text/plain": [
              "list"
            ]
          },
          "metadata": {},
          "execution_count": 5
        }
      ],
      "source": [
        "type([\"Audi\", \"BMW\", \"Mercedes\"])"
      ],
      "id": "b6b2e8a3-5b12-46d2-9fb4-e49f35326d35"
    },
    {
      "cell_type": "markdown",
      "metadata": {
        "id": "79f6efa8-e76c-40e2-be6d-80901e17e9e9"
      },
      "source": [
        "### Tuples"
      ],
      "id": "79f6efa8-e76c-40e2-be6d-80901e17e9e9"
    },
    {
      "cell_type": "code",
      "execution_count": 6,
      "metadata": {
        "colab": {
          "base_uri": "https://localhost:8080/"
        },
        "id": "fc325bcc-f33e-4a1c-901a-5e860435e8a6",
        "outputId": "c16d07c6-ff15-48ce-c941-b67554c2a607"
      },
      "outputs": [
        {
          "output_type": "execute_result",
          "data": {
            "text/plain": [
              "tuple"
            ]
          },
          "metadata": {},
          "execution_count": 6
        }
      ],
      "source": [
        "type((\"SUV\", \"saloon/sedan\", \"hatchback\"))"
      ],
      "id": "fc325bcc-f33e-4a1c-901a-5e860435e8a6"
    },
    {
      "cell_type": "markdown",
      "metadata": {
        "id": "166653ee-6551-47a5-90b1-3127ed90de06"
      },
      "source": [
        "### Dictionaries"
      ],
      "id": "166653ee-6551-47a5-90b1-3127ed90de06"
    },
    {
      "cell_type": "code",
      "execution_count": 7,
      "metadata": {
        "colab": {
          "base_uri": "https://localhost:8080/"
        },
        "id": "3bbb6026-6a2c-45b7-b58f-fe0e5744eb48",
        "outputId": "0b5b3eb5-a316-4a69-fdec-fbd33b639a32"
      },
      "outputs": [
        {
          "output_type": "execute_result",
          "data": {
            "text/plain": [
              "dict"
            ]
          },
          "metadata": {},
          "execution_count": 7
        }
      ],
      "source": [
        "type({\"make\": \"Suzuki\", \"model\": \"Alto\"})"
      ],
      "id": "3bbb6026-6a2c-45b7-b58f-fe0e5744eb48"
    },
    {
      "cell_type": "markdown",
      "metadata": {
        "id": "1736b830-e81d-438f-878a-a5671563bc2a"
      },
      "source": [
        "### Sets"
      ],
      "id": "1736b830-e81d-438f-878a-a5671563bc2a"
    },
    {
      "cell_type": "code",
      "execution_count": 8,
      "metadata": {
        "colab": {
          "base_uri": "https://localhost:8080/"
        },
        "id": "6eadabea-9aae-46e4-bf33-a135daf44d45",
        "outputId": "dd4565fd-7bee-4465-9653-24098f403f14"
      },
      "outputs": [
        {
          "output_type": "execute_result",
          "data": {
            "text/plain": [
              "set"
            ]
          },
          "metadata": {},
          "execution_count": 8
        }
      ],
      "source": [
        "type({1, 2, 3, 5, 7})"
      ],
      "id": "6eadabea-9aae-46e4-bf33-a135daf44d45"
    },
    {
      "cell_type": "markdown",
      "metadata": {
        "id": "c81515d4-6683-4b9f-9918-72ecf9de4803"
      },
      "source": [
        "## Math operators"
      ],
      "id": "c81515d4-6683-4b9f-9918-72ecf9de4803"
    },
    {
      "cell_type": "markdown",
      "source": [
        "### Addition"
      ],
      "metadata": {
        "id": "8mWrrtf33Nu0"
      },
      "id": "8mWrrtf33Nu0"
    },
    {
      "cell_type": "code",
      "execution_count": 9,
      "metadata": {
        "colab": {
          "base_uri": "https://localhost:8080/"
        },
        "id": "28451749-7057-44bc-b6ca-2bfbfee6abc5",
        "outputId": "241bbe7e-2f6a-4be7-86c0-c9c0bceff69a"
      },
      "outputs": [
        {
          "output_type": "execute_result",
          "data": {
            "text/plain": [
              "8"
            ]
          },
          "metadata": {},
          "execution_count": 9
        }
      ],
      "source": [
        "3 + 5"
      ],
      "id": "28451749-7057-44bc-b6ca-2bfbfee6abc5"
    },
    {
      "cell_type": "markdown",
      "metadata": {
        "id": "577d557c-03ae-42d2-bfbd-382e3df20032"
      },
      "source": [
        "### Subtraction"
      ],
      "id": "577d557c-03ae-42d2-bfbd-382e3df20032"
    },
    {
      "cell_type": "code",
      "execution_count": 10,
      "metadata": {
        "colab": {
          "base_uri": "https://localhost:8080/"
        },
        "id": "75a0548e-70ae-4ee8-8ee1-cea0b1080fca",
        "outputId": "b753ff4e-d2a8-425b-fb60-6af5995d8784"
      },
      "outputs": [
        {
          "output_type": "execute_result",
          "data": {
            "text/plain": [
              "80"
            ]
          },
          "metadata": {},
          "execution_count": 10
        }
      ],
      "source": [
        "100 - 20"
      ],
      "id": "75a0548e-70ae-4ee8-8ee1-cea0b1080fca"
    },
    {
      "cell_type": "markdown",
      "metadata": {
        "id": "ec89533d-264a-47de-ae4c-04ad500cb041"
      },
      "source": [
        "### Multiplication"
      ],
      "id": "ec89533d-264a-47de-ae4c-04ad500cb041"
    },
    {
      "cell_type": "code",
      "execution_count": 11,
      "metadata": {
        "colab": {
          "base_uri": "https://localhost:8080/"
        },
        "id": "b0c927d3-82db-420e-b90c-e94137b3bede",
        "outputId": "48f9be39-9f26-40ba-ddf4-af5c289cd980"
      },
      "outputs": [
        {
          "output_type": "execute_result",
          "data": {
            "text/plain": [
              "10"
            ]
          },
          "metadata": {},
          "execution_count": 11
        }
      ],
      "source": [
        "2 * 5"
      ],
      "id": "b0c927d3-82db-420e-b90c-e94137b3bede"
    },
    {
      "cell_type": "markdown",
      "metadata": {
        "id": "6f95fba3-1c8b-4dc1-92ff-b6148d24da19"
      },
      "source": [
        "### Division"
      ],
      "id": "6f95fba3-1c8b-4dc1-92ff-b6148d24da19"
    },
    {
      "cell_type": "code",
      "execution_count": 12,
      "metadata": {
        "colab": {
          "base_uri": "https://localhost:8080/"
        },
        "id": "184a7d29-d4c0-4eaf-b018-8b04b74d5858",
        "outputId": "076378b3-1698-4504-c86e-2df129c0c865"
      },
      "outputs": [
        {
          "output_type": "execute_result",
          "data": {
            "text/plain": [
              "50.0"
            ]
          },
          "metadata": {},
          "execution_count": 12
        }
      ],
      "source": [
        "100 / 2"
      ],
      "id": "184a7d29-d4c0-4eaf-b018-8b04b74d5858"
    },
    {
      "cell_type": "markdown",
      "metadata": {
        "id": "43c3d11d-0eef-4b9d-81d7-80fb2eff1211"
      },
      "source": [
        "### Integer division/floored quotient"
      ],
      "id": "43c3d11d-0eef-4b9d-81d7-80fb2eff1211"
    },
    {
      "cell_type": "code",
      "execution_count": 13,
      "metadata": {
        "colab": {
          "base_uri": "https://localhost:8080/"
        },
        "id": "a66c5f08-b381-4dd4-933d-286adc73a3fe",
        "outputId": "8cd4bb56-fa01-4c02-eef6-b0ab7cba1cb9"
      },
      "outputs": [
        {
          "output_type": "execute_result",
          "data": {
            "text/plain": [
              "5"
            ]
          },
          "metadata": {},
          "execution_count": 13
        }
      ],
      "source": [
        "23 // 4"
      ],
      "id": "a66c5f08-b381-4dd4-933d-286adc73a3fe"
    },
    {
      "cell_type": "markdown",
      "metadata": {
        "id": "208ded1c-907e-4f17-bf6d-be04e838c553"
      },
      "source": [
        "### Modulus/remainder"
      ],
      "id": "208ded1c-907e-4f17-bf6d-be04e838c553"
    },
    {
      "cell_type": "code",
      "execution_count": 14,
      "metadata": {
        "colab": {
          "base_uri": "https://localhost:8080/"
        },
        "id": "2a429c53-e064-4846-9cbe-fca56823b5af",
        "outputId": "3bfc5d31-c6eb-4ff4-af93-5eda9636e21b"
      },
      "outputs": [
        {
          "output_type": "execute_result",
          "data": {
            "text/plain": [
              "3"
            ]
          },
          "metadata": {},
          "execution_count": 14
        }
      ],
      "source": [
        "23 % 4"
      ],
      "id": "2a429c53-e064-4846-9cbe-fca56823b5af"
    },
    {
      "cell_type": "markdown",
      "metadata": {
        "id": "e9eeea3f-b04a-4de8-901a-30dc96926573"
      },
      "source": [
        "### Exponentiation"
      ],
      "id": "e9eeea3f-b04a-4de8-901a-30dc96926573"
    },
    {
      "cell_type": "code",
      "execution_count": 15,
      "metadata": {
        "colab": {
          "base_uri": "https://localhost:8080/"
        },
        "id": "3ee9ca4b-da8c-482e-9273-00ca4d365b06",
        "outputId": "1d58bfd1-f755-4ed1-98d2-dee88b3f5315"
      },
      "outputs": [
        {
          "output_type": "execute_result",
          "data": {
            "text/plain": [
              "100"
            ]
          },
          "metadata": {},
          "execution_count": 15
        }
      ],
      "source": [
        "10 ** 2"
      ],
      "id": "3ee9ca4b-da8c-482e-9273-00ca4d365b06"
    },
    {
      "cell_type": "code",
      "source": [
        "(2 ** .5)**2"
      ],
      "metadata": {
        "colab": {
          "base_uri": "https://localhost:8080/"
        },
        "id": "xRE1ic5MBw1b",
        "outputId": "c0fd7df7-9414-433e-ceed-05a291677086"
      },
      "id": "xRE1ic5MBw1b",
      "execution_count": 16,
      "outputs": [
        {
          "output_type": "execute_result",
          "data": {
            "text/plain": [
              "2.0000000000000004"
            ]
          },
          "metadata": {},
          "execution_count": 16
        }
      ]
    },
    {
      "cell_type": "markdown",
      "metadata": {
        "id": "2c0e1403-ea69-42e3-a328-3b95a32946cc"
      },
      "source": [
        "## String operators"
      ],
      "id": "2c0e1403-ea69-42e3-a328-3b95a32946cc"
    },
    {
      "cell_type": "markdown",
      "source": [
        "### Concatenation"
      ],
      "metadata": {
        "id": "N_g76j7H3W1C"
      },
      "id": "N_g76j7H3W1C"
    },
    {
      "cell_type": "code",
      "execution_count": 17,
      "metadata": {
        "colab": {
          "base_uri": "https://localhost:8080/",
          "height": 35
        },
        "id": "7b8855f2-c810-4890-ad3e-d885e7f78f69",
        "outputId": "377d65cf-ca51-444c-eedb-c143f54d0632"
      },
      "outputs": [
        {
          "output_type": "execute_result",
          "data": {
            "text/plain": [
              "'Hello world!'"
            ],
            "application/vnd.google.colaboratory.intrinsic+json": {
              "type": "string"
            }
          },
          "metadata": {},
          "execution_count": 17
        }
      ],
      "source": [
        "\"Hello\" + \" \" + \"world\" + \"!\""
      ],
      "id": "7b8855f2-c810-4890-ad3e-d885e7f78f69"
    },
    {
      "cell_type": "markdown",
      "metadata": {
        "id": "8b282a19-e060-4fbe-8d77-e9a98221af5e"
      },
      "source": [
        "### Replication"
      ],
      "id": "8b282a19-e060-4fbe-8d77-e9a98221af5e"
    },
    {
      "cell_type": "code",
      "execution_count": 18,
      "metadata": {
        "colab": {
          "base_uri": "https://localhost:8080/",
          "height": 35
        },
        "id": "b1c5f71b-82d2-4fcc-a473-3851d1ca6425",
        "outputId": "6b428f2e-f960-4a33-f86d-7966a8cd36c3"
      },
      "outputs": [
        {
          "output_type": "execute_result",
          "data": {
            "text/plain": [
              "'Hello world!Hello world!Hello world!'"
            ],
            "application/vnd.google.colaboratory.intrinsic+json": {
              "type": "string"
            }
          },
          "metadata": {},
          "execution_count": 18
        }
      ],
      "source": [
        "\"Hello world!\" * 3"
      ],
      "id": "b1c5f71b-82d2-4fcc-a473-3851d1ca6425"
    },
    {
      "cell_type": "code",
      "source": [
        "print(\"=\" * 50 + \"\\n\" + \"Hello world!\" + \"\\n\" + \"=\" * 50)"
      ],
      "metadata": {
        "colab": {
          "base_uri": "https://localhost:8080/"
        },
        "id": "F7wo5AdiC6A8",
        "outputId": "221258c7-afed-4564-95a2-0cb607ab8cee"
      },
      "id": "F7wo5AdiC6A8",
      "execution_count": 19,
      "outputs": [
        {
          "output_type": "stream",
          "name": "stdout",
          "text": [
            "==================================================\n",
            "Hello world!\n",
            "==================================================\n"
          ]
        }
      ]
    },
    {
      "cell_type": "markdown",
      "metadata": {
        "id": "89bbed71-436e-4e5e-aa30-7917cfd69875"
      },
      "source": [
        "## Variables"
      ],
      "id": "89bbed71-436e-4e5e-aa30-7917cfd69875"
    },
    {
      "cell_type": "code",
      "execution_count": 20,
      "metadata": {
        "colab": {
          "base_uri": "https://localhost:8080/"
        },
        "id": "fb8faaa5-eed5-43b1-a712-7f040e59ee59",
        "outputId": "32cbb2b9-6533-43c9-e596-574ef2badce6"
      },
      "outputs": [
        {
          "output_type": "execute_result",
          "data": {
            "text/plain": [
              "5"
            ]
          },
          "metadata": {},
          "execution_count": 20
        }
      ],
      "source": [
        "x = 5\n",
        "x"
      ],
      "id": "fb8faaa5-eed5-43b1-a712-7f040e59ee59"
    },
    {
      "cell_type": "code",
      "source": [
        "print(\"x is \" + str(x))"
      ],
      "metadata": {
        "colab": {
          "base_uri": "https://localhost:8080/"
        },
        "id": "jm98SzryDcA7",
        "outputId": "54d1a89e-5d9a-4420-bd73-6f4daff1b5c6"
      },
      "id": "jm98SzryDcA7",
      "execution_count": 21,
      "outputs": [
        {
          "output_type": "stream",
          "name": "stdout",
          "text": [
            "x is 5\n"
          ]
        }
      ]
    },
    {
      "cell_type": "code",
      "execution_count": 22,
      "metadata": {
        "colab": {
          "base_uri": "https://localhost:8080/",
          "height": 35
        },
        "id": "ad43532c-e81b-401e-89d0-8b8b431fa2d8",
        "outputId": "b85bc6c8-17f6-478a-b2b7-3719f21620b4"
      },
      "outputs": [
        {
          "output_type": "execute_result",
          "data": {
            "text/plain": [
              "'Hello world!'"
            ],
            "application/vnd.google.colaboratory.intrinsic+json": {
              "type": "string"
            }
          },
          "metadata": {},
          "execution_count": 22
        }
      ],
      "source": [
        "text = \"Hello world!\"\n",
        "text"
      ],
      "id": "ad43532c-e81b-401e-89d0-8b8b431fa2d8"
    },
    {
      "cell_type": "code",
      "source": [
        "name = input(\"Enter your name:\\n\")\n",
        "print(\"Hello \" + name + \"!\")"
      ],
      "metadata": {
        "colab": {
          "base_uri": "https://localhost:8080/"
        },
        "id": "bAJz6FH3Dt1S",
        "outputId": "e9a61d7a-238f-460c-db28-09927b3a031e"
      },
      "id": "bAJz6FH3Dt1S",
      "execution_count": 23,
      "outputs": [
        {
          "output_type": "stream",
          "name": "stdout",
          "text": [
            "Enter your name:\n",
            "Harison\n",
            "Hello Harison!\n"
          ]
        }
      ]
    },
    {
      "cell_type": "code",
      "source": [
        "name = input(\"Enter your name:\\n\")\n",
        "template = \"*\" * 50\n",
        "print(f\"{template}\\nHello {name}!\\n{template}\")"
      ],
      "metadata": {
        "colab": {
          "base_uri": "https://localhost:8080/"
        },
        "id": "6-BISeuYEHq4",
        "outputId": "02d043bc-de2a-4fa2-f96b-cef7b5c2e94d"
      },
      "id": "6-BISeuYEHq4",
      "execution_count": 24,
      "outputs": [
        {
          "output_type": "stream",
          "name": "stdout",
          "text": [
            "Enter your name:\n",
            "\n",
            "**************************************************\n",
            "Hello !\n",
            "**************************************************\n"
          ]
        }
      ]
    },
    {
      "cell_type": "markdown",
      "metadata": {
        "id": "668aa7e0-c66e-4e4c-b435-10c84805be6d"
      },
      "source": [
        "Question: What happens when we reference an unassigned variable?\n",
        "\n",
        "## Reading and writing files"
      ],
      "id": "668aa7e0-c66e-4e4c-b435-10c84805be6d"
    },
    {
      "cell_type": "code",
      "source": [
        "file_ref = open(\"/content/sample_data/README.md\")\n",
        "print(file_ref.read())\n",
        "file_ref.close()"
      ],
      "metadata": {
        "colab": {
          "base_uri": "https://localhost:8080/"
        },
        "id": "bVLKpUShFQ-i",
        "outputId": "b4264ed4-162a-4892-b9b8-13901603d018"
      },
      "id": "bVLKpUShFQ-i",
      "execution_count": 25,
      "outputs": [
        {
          "output_type": "stream",
          "name": "stdout",
          "text": [
            "This directory includes a few sample datasets to get you started.\n",
            "\n",
            "*   `california_housing_data*.csv` is California housing data from the 1990 US\n",
            "    Census; more information is available at:\n",
            "    https://developers.google.com/machine-learning/crash-course/california-housing-data-description\n",
            "\n",
            "*   `mnist_*.csv` is a small sample of the\n",
            "    [MNIST database](https://en.wikipedia.org/wiki/MNIST_database), which is\n",
            "    described at: http://yann.lecun.com/exdb/mnist/\n",
            "\n",
            "*   `anscombe.json` contains a copy of\n",
            "    [Anscombe's quartet](https://en.wikipedia.org/wiki/Anscombe%27s_quartet); it\n",
            "    was originally described in\n",
            "\n",
            "    Anscombe, F. J. (1973). 'Graphs in Statistical Analysis'. American\n",
            "    Statistician. 27 (1): 17-21. JSTOR 2682899.\n",
            "\n",
            "    and our copy was prepared by the\n",
            "    [vega_datasets library](https://github.com/altair-viz/vega_datasets/blob/4f67bdaad10f45e3549984e17e1b3088c731503d/vega_datasets/_data/anscombe.json).\n",
            "\n"
          ]
        }
      ]
    },
    {
      "cell_type": "code",
      "source": [
        "with open(\"/content/sample_data/README.md\") as file:\n",
        "    print(file.read())"
      ],
      "metadata": {
        "colab": {
          "base_uri": "https://localhost:8080/"
        },
        "id": "H90fGFHNGNO_",
        "outputId": "2c3e040b-8fe5-4831-c2fd-9a5d8a0c64c8"
      },
      "id": "H90fGFHNGNO_",
      "execution_count": 26,
      "outputs": [
        {
          "output_type": "stream",
          "name": "stdout",
          "text": [
            "This directory includes a few sample datasets to get you started.\n",
            "\n",
            "*   `california_housing_data*.csv` is California housing data from the 1990 US\n",
            "    Census; more information is available at:\n",
            "    https://developers.google.com/machine-learning/crash-course/california-housing-data-description\n",
            "\n",
            "*   `mnist_*.csv` is a small sample of the\n",
            "    [MNIST database](https://en.wikipedia.org/wiki/MNIST_database), which is\n",
            "    described at: http://yann.lecun.com/exdb/mnist/\n",
            "\n",
            "*   `anscombe.json` contains a copy of\n",
            "    [Anscombe's quartet](https://en.wikipedia.org/wiki/Anscombe%27s_quartet); it\n",
            "    was originally described in\n",
            "\n",
            "    Anscombe, F. J. (1973). 'Graphs in Statistical Analysis'. American\n",
            "    Statistician. 27 (1): 17-21. JSTOR 2682899.\n",
            "\n",
            "    and our copy was prepared by the\n",
            "    [vega_datasets library](https://github.com/altair-viz/vega_datasets/blob/4f67bdaad10f45e3549984e17e1b3088c731503d/vega_datasets/_data/anscombe.json).\n",
            "\n"
          ]
        }
      ]
    },
    {
      "cell_type": "code",
      "source": [
        "?open"
      ],
      "metadata": {
        "id": "wQhSvOkuGjrA"
      },
      "id": "wQhSvOkuGjrA",
      "execution_count": 27,
      "outputs": []
    },
    {
      "cell_type": "code",
      "execution_count": 28,
      "metadata": {
        "id": "8967f721-55d3-4523-8f07-b26bd3098b86"
      },
      "outputs": [],
      "source": [
        "file_ref = open(\"example.txt\", \"w\")\n",
        "file_ref.write(\"The quick brown fox jumps over the lazy dog\")\n",
        "file_ref.close()"
      ],
      "id": "8967f721-55d3-4523-8f07-b26bd3098b86"
    },
    {
      "cell_type": "code",
      "execution_count": 29,
      "metadata": {
        "colab": {
          "base_uri": "https://localhost:8080/"
        },
        "id": "bc45ae1d-19c0-4de5-a8cb-49ca0fc8cdba",
        "outputId": "6f79acb1-97b5-4188-b53f-ee48d9e65481"
      },
      "outputs": [
        {
          "output_type": "stream",
          "name": "stdout",
          "text": [
            "The quick brown fox jumps over the lazy dog\n"
          ]
        }
      ],
      "source": [
        "with open(\"example.txt\") as file:\n",
        "    print(file.read())"
      ],
      "id": "bc45ae1d-19c0-4de5-a8cb-49ca0fc8cdba"
    },
    {
      "cell_type": "code",
      "source": [
        "with open(\"example2.txt\", mode=\"w\") as file:\n",
        "    file.write(\"Some text\")"
      ],
      "metadata": {
        "id": "axFImr_nG8SS"
      },
      "id": "axFImr_nG8SS",
      "execution_count": 30,
      "outputs": []
    },
    {
      "cell_type": "markdown",
      "metadata": {
        "id": "bdc8aa0b-3975-422f-bacc-8118c14bbb0a"
      },
      "source": [
        "## Error handling\n",
        "\n",
        "## Imports\n",
        "\n",
        "## Iteration\n",
        "\n",
        "## Flow control"
      ],
      "id": "bdc8aa0b-3975-422f-bacc-8118c14bbb0a"
    }
  ],
  "nbformat": 4,
  "nbformat_minor": 5,
  "metadata": {
    "kernelspec": {
      "name": "python3",
      "display_name": "Python 3 (ipykernel)",
      "language": "python"
    },
    "colab": {
      "provenance": [],
      "include_colab_link": true
    }
  }
}